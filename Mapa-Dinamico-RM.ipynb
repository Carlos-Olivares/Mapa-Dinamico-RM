{
 "cells": [
  {
   "cell_type": "markdown",
   "metadata": {},
   "source": [
    "# Mapa Dinpamico RM\n",
    "\n",
    "Carlos Olivares <br>\n",
    "https://github.com/Carlos-Olivares/"
   ]
  },
  {
   "cell_type": "code",
   "execution_count": null,
   "metadata": {},
   "outputs": [],
   "source": [
    "#Importar librerías\n",
    "import numpy as np\n",
    "import geopandas as gpd\n",
    "import pandas as pd\n",
    "import matplotlib.pyplot as plt\n",
    "import json\n",
    "\n",
    "%matplotlib inline"
   ]
  },
  {
   "cell_type": "code",
   "execution_count": null,
   "metadata": {},
   "outputs": [],
   "source": [
    "#Importar poligonos de comunas\n",
    "shapefile = 'ComunasSHP//comunas.shp'\n",
    "\n",
    "#Leer shapefile con geopandas\n",
    "gdf = gpd.read_file(shapefile, encoding='utf-8')[['codregion', 'Region', 'cod_comuna', 'Comuna', 'Provincia', 'geometry']]\n",
    "\n",
    "#Filtramos solo RM\n",
    "gdf = gdf[gdf['codregion'] == 13]\n",
    "\n",
    "#Filtramos algunas comunas para visualizar mejor\n",
    "excluir = [13202, 13203, 13301, 13302, 13303, 13402, 13403, 13404, 13501, 13502, 13503, 13504, 13601, 13602, 13603, 13605]\n",
    "gdf = gdf[~gdf['cod_comuna'].isin(excluir)]\n",
    "\n",
    "gdf.head()"
   ]
  },
  {
   "cell_type": "code",
   "execution_count": null,
   "metadata": {},
   "outputs": [],
   "source": [
    "#Columnas de interés\n",
    "gdf = gdf[['cod_comuna', 'Comuna', 'geometry']]\n",
    "gdf.head()"
   ]
  },
  {
   "cell_type": "code",
   "execution_count": null,
   "metadata": {},
   "outputs": [],
   "source": [
    "#Habitantes por Comuna\n",
    "url = 'https://raw.githubusercontent.com/MinCiencia/Datos-COVID19/master/output/producto82/ISCI_weeks.csv'\n",
    "movilidad = pd.read_csv(url)\n",
    "movilidad = movilidad[movilidad['region'] == 13].copy()\n",
    "movilidad.head()"
   ]
  },
  {
   "cell_type": "code",
   "execution_count": null,
   "metadata": {},
   "outputs": [],
   "source": [
    "#Arreglar semana\n",
    "movilidad['semana'] = (movilidad['semana']+100).astype(str).str[1:]\n",
    "movilidad.head()"
   ]
  },
  {
   "cell_type": "code",
   "execution_count": null,
   "metadata": {},
   "outputs": [],
   "source": [
    "#Datos Faltantes\n",
    "movilidad.isna().sum()"
   ]
  },
  {
   "cell_type": "code",
   "execution_count": null,
   "metadata": {},
   "outputs": [],
   "source": [
    "movilidad.dropna(inplace = True)\n",
    "movilidad.isna().sum()"
   ]
  },
  {
   "cell_type": "code",
   "execution_count": null,
   "metadata": {},
   "outputs": [],
   "source": [
    "#Unir DataFrames\n",
    "df_final = gdf.merge(movilidad, how = 'inner', left_on = 'cod_comuna', right_on = 'comuna', suffixes = (\"\",\"_2\"))\n",
    "display(df_final.head())\n",
    "print(df_final.shape)"
   ]
  },
  {
   "cell_type": "code",
   "execution_count": null,
   "metadata": {},
   "outputs": [],
   "source": [
    "#Columnas de interés\n",
    "df_final = df_final[['Comuna', 'semana', 'fecha_inicio', 'fecha_termino', 'var_salidas', 'geometry']]\n",
    "df_final.head()"
   ]
  },
  {
   "cell_type": "code",
   "execution_count": null,
   "metadata": {},
   "outputs": [],
   "source": [
    "df_final.plot()"
   ]
  },
  {
   "cell_type": "markdown",
   "metadata": {},
   "source": [
    "# Crear Video Sin Interpolación"
   ]
  },
  {
   "cell_type": "code",
   "execution_count": null,
   "metadata": {
    "scrolled": true
   },
   "outputs": [],
   "source": [
    "#Crear imágenes\n",
    "from bokeh.io import output_notebook, show, output_file, save, export_png\n",
    "from bokeh.plotting import figure\n",
    "from bokeh.models import GeoJSONDataSource, ColorBar, LinearColorMapper, Label\n",
    "from bokeh.palettes import cividis\n",
    "import plotly as plt\n",
    "\n",
    "#Min-Max Color\n",
    "min_color = df_final['var_salidas'].min()\n",
    "max_color = df_final['var_salidas'].max()\n",
    "\n",
    "#Nombre Mes\n",
    "meses = {'01': 'Enero',\n",
    "      '02': 'Febrero',\n",
    "      '03': 'Marzo',\n",
    "      '04': 'Abril',\n",
    "      '05': 'Mayo',\n",
    "      '06': 'Junio',\n",
    "      '07': 'Julio',\n",
    "      '08': 'Agosto',\n",
    "      '09': 'Septiembre',\n",
    "      '10': 'Octubre',\n",
    "      '11': 'Noviembre',\n",
    "      '12': 'Diciembre'}\n",
    "\n",
    "#Mapa por semana\n",
    "for semana in df_final['semana'].unique():\n",
    "    #Filtrar semana\n",
    "    df_semana = df_final.query('semana == @semana').copy()\n",
    "    \n",
    "    #A json\n",
    "    merged_json = json.loads(df_semana.to_json())\n",
    "    \n",
    "    #Json a String\n",
    "    json_data = json.dumps(merged_json)\n",
    "    \n",
    "    #Cargar la data json_data\n",
    "    gsource = GeoJSONDataSource(geojson = json_data)\n",
    "\n",
    "    #Definir una paleta de colores\n",
    "    colores = cividis(n = 256)\n",
    "\n",
    "    #Inicializar LinearColorMapper. Para que asocie un número a los colores.\n",
    "    color_mapper = LinearColorMapper(palette = colores, low = min_color, high = max_color)\n",
    "    \n",
    "    #Crear el objeto figura\n",
    "    fig = figure(title = 'Índice de movilidad por Comuna de Santiago',\n",
    "              plot_height = 600,\n",
    "              plot_width = 950,\n",
    "              toolbar_location = None)\n",
    "    \n",
    "    #Formato de Título\n",
    "    fig.title.text_font_size = '20pt'\n",
    "    fig.title.align = 'center'\n",
    "\n",
    "    #Ocultamos los ejes\n",
    "    fig.axis.visible = False\n",
    "    fig.xgrid.grid_line_color = None\n",
    "    fig.ygrid.grid_line_color = None\n",
    "    \n",
    "    #Agregar comunas\n",
    "    fig.patches('xs', 'ys', \n",
    "              source = gsource,\n",
    "              fill_color = {'field': 'var_salidas', 'transform': color_mapper},\n",
    "              line_color = 'black',\n",
    "              line_width = 0.5,\n",
    "              fill_alpha = 1)\n",
    "    \n",
    "    #Anotaciones\n",
    "    anio = Label(x = -7902000, y=-3919000, text = df_semana['fecha_inicio'].unique()[0][:4], text_font_size='80px')\n",
    "    fig.add_layout(anio)\n",
    "    \n",
    "    mes = Label(x = -7901500, y=-3924000, text = meses[df_semana['fecha_inicio'].unique()[0][5:7]], text_font_size='30px')\n",
    "    fig.add_layout(mes)\n",
    "    \n",
    "    #Rescatar Fechas\n",
    "    inicio = df_semana['fecha_inicio'].unique()[0]\n",
    "    termino = df_semana['fecha_termino'].unique()[0]\n",
    "    fechas = 'Semana de ' + inicio + ' hasta ' + termino\n",
    "    an_fechas = Label(x = -7849000, y=-3999000, text = fechas, text_font_size='20px')\n",
    "    fig.add_layout(an_fechas)\n",
    "    \n",
    "    #Agregar ColorBar\n",
    "    color_bar = ColorBar(color_mapper=color_mapper, label_standoff=12, location=(0,0))\n",
    "    fig.add_layout(color_bar, 'right')\n",
    "    \n",
    "    #Export as png\n",
    "    export_png(fig, filename='output\\\\semana_{}.png'.format(semana))\n",
    "    print('Semana', semana, 'lista!')"
   ]
  },
  {
   "cell_type": "code",
   "execution_count": null,
   "metadata": {},
   "outputs": [],
   "source": [
    "#Crear Video con OpenCV\n",
    "#Fuente: https://theailearner.com/2018/10/15/creating-video-from-images-using-opencv-python/\n",
    "\n",
    "import cv2\n",
    "import glob\n",
    " \n",
    "img_array = []\n",
    "for filename in glob.glob('SinInterpolacion/*.png'):\n",
    "    img = cv2.imread(filename)\n",
    "    height, width, layers = img.shape\n",
    "    size = (width,height)\n",
    "    img_array.append(img)\n",
    " \n",
    " \n",
    "out = cv2.VideoWriter('final_rapido2.avi',cv2.VideoWriter_fourcc(*'DIVX'), 5, size)\n",
    " \n",
    "for i in range(len(img_array)):\n",
    "    out.write(img_array[i])\n",
    "out.release()"
   ]
  },
  {
   "cell_type": "markdown",
   "metadata": {},
   "source": [
    "# Crear Video con Interpolación"
   ]
  },
  {
   "cell_type": "code",
   "execution_count": null,
   "metadata": {},
   "outputs": [],
   "source": [
    "df_final_aux = df_final.copy()\n",
    "df_final_aux"
   ]
  },
  {
   "cell_type": "code",
   "execution_count": null,
   "metadata": {},
   "outputs": [],
   "source": [
    "#Crear un df con movilidad vacía\n",
    "n_records = 29\n",
    "dummy = pd.concat([df_final_aux]*n_records)\n",
    "\n",
    "#Ordenar por comuna y semana\n",
    "dummy = dummy.sort_values(['Comuna', 'semana'])\n",
    "\n",
    "#Reset Index\n",
    "dummy.reset_index(drop = True, inplace = True)\n",
    "\n",
    "#Eliminar var_salidas\n",
    "dummy['var_salidas'] = None\n",
    "\n",
    "#Agregamos sub_semana\n",
    "dummy['sub_semana'] = pd.Series(np.tile(np.arange(1, n_records+1), n_records*df_final_aux.shape[0])).astype(int)\n",
    "dummy.head(60)"
   ]
  },
  {
   "cell_type": "code",
   "execution_count": null,
   "metadata": {},
   "outputs": [],
   "source": [
    "#Setear sub_semana auxiliar\n",
    "df_final_aux['sub_semana'] = 0\n",
    "\n",
    "#Merge y ordenar\n",
    "df_merged = pd.concat([df_final_aux, dummy], axis = 0).sort_values(by=['Comuna', 'semana', 'sub_semana'])\n",
    "df_merged.reset_index(drop = True, inplace = True)\n",
    "\n",
    "#Arreglar sub_semana\n",
    "df_merged['sub_semana'] = (df_merged['sub_semana']+100).astype(str).str[1:]\n",
    "df_merged.head(60)"
   ]
  },
  {
   "cell_type": "code",
   "execution_count": null,
   "metadata": {},
   "outputs": [],
   "source": [
    "#Interpolar valores faltantes\n",
    "df_merged['var_salidas'] = df_merged['var_salidas'].astype(float)\n",
    "df_merged['var_salidas'] = df_merged['var_salidas'].interpolate()\n",
    "\n",
    "df_merged.head(60)"
   ]
  },
  {
   "cell_type": "code",
   "execution_count": null,
   "metadata": {},
   "outputs": [],
   "source": [
    "df_merged.shape"
   ]
  },
  {
   "cell_type": "code",
   "execution_count": null,
   "metadata": {},
   "outputs": [],
   "source": [
    "df_merged['id_semana'] = list(zip(df_merged['semana'], df_merged['sub_semana']))\n",
    "df_merged"
   ]
  },
  {
   "cell_type": "code",
   "execution_count": null,
   "metadata": {
    "scrolled": true
   },
   "outputs": [],
   "source": [
    "from bokeh.io import output_notebook, show, output_file, save, export_png\n",
    "from bokeh.plotting import figure\n",
    "from bokeh.models import GeoJSONDataSource, ColorBar, LinearColorMapper, Label\n",
    "from bokeh.palettes import cividis\n",
    "import plotly as plt\n",
    "\n",
    "#Min-Max Color\n",
    "min_color = df_merged['var_salidas'].min()\n",
    "max_color = df_merged['var_salidas'].max()\n",
    "\n",
    "#Nombre Mes\n",
    "meses = {'01': 'Enero',\n",
    "      '02': 'Febrero',\n",
    "      '03': 'Marzo',\n",
    "      '04': 'Abril',\n",
    "      '05': 'Mayo',\n",
    "      '06': 'Junio',\n",
    "      '07': 'Julio',\n",
    "      '08': 'Agosto',\n",
    "      '09': 'Septiembre',\n",
    "      '10': 'Octubre',\n",
    "      '11': 'Noviembre',\n",
    "      '12': 'Diciembre'}\n",
    "\n",
    "#Mapa por semana\n",
    "for id_semana in df_merged['id_semana'].unique():\n",
    "    #Filtrar semana\n",
    "    df_semana = df_merged.query('id_semana == @id_semana').copy()\n",
    "    \n",
    "    #A json\n",
    "    merged_json = json.loads(df_semana.to_json())\n",
    "    \n",
    "    #Json a String\n",
    "    json_data = json.dumps(merged_json)\n",
    "    \n",
    "    #Cargar la data json_data\n",
    "    gsource = GeoJSONDataSource(geojson = json_data)\n",
    "\n",
    "    #Definir una paleta de colores\n",
    "    colores = cividis(n = 256)\n",
    "\n",
    "    #Inicializar LinearColorMapper. Para que asocie un número a los colores.\n",
    "    color_mapper = LinearColorMapper(palette = colores, low = min_color, high = max_color)\n",
    "    \n",
    "    #Crear el objeto figura\n",
    "    fig = figure(title = 'Índice de movilidad por Comuna de Santiago',\n",
    "              plot_height = 600,\n",
    "              plot_width = 950,\n",
    "              toolbar_location = None)\n",
    "\n",
    "    fig.xgrid.grid_line_color = None\n",
    "    fig.ygrid.grid_line_color = None\n",
    "    fig.title.text_font_size = '20pt'\n",
    "    fig.title.align = 'center'\n",
    "\n",
    "    #Ocultamos los ejes\n",
    "    fig.axis.visible = False\n",
    "\n",
    "    #Agregar comunas\n",
    "    fig.patches('xs', 'ys', \n",
    "              source = gsource,\n",
    "              fill_color = {'field': 'var_salidas', 'transform': color_mapper},\n",
    "              line_color = 'black',\n",
    "              line_width = 0.5,\n",
    "              fill_alpha = 1,\n",
    "              name = 'Comunas')\n",
    "    \n",
    "    #Anotaciones\n",
    "    anio = Label(x = -7902000, y=-3919000, text = df_semana['fecha_inicio'].unique()[0][:4], text_font_size='80px')\n",
    "    fig.add_layout(anio)\n",
    "    \n",
    "    mes = Label(x = -7901500, y=-3924000, text = meses[df_semana['fecha_inicio'].unique()[0][5:7]], text_font_size='30px')\n",
    "    fig.add_layout(mes)\n",
    "    \n",
    "    #Rescatar Fechas\n",
    "    inicio = df_semana['fecha_inicio'].unique()[0]\n",
    "    termino = df_semana['fecha_termino'].unique()[0]\n",
    "    fechas = 'Semana de ' + inicio + ' hasta ' + termino\n",
    "    an_fechas = Label(x = -7849000, y=-3999000, text = fechas, text_font_size='20px')\n",
    "    fig.add_layout(an_fechas)\n",
    "    \n",
    "    #Agregar ColorBar\n",
    "    color_bar = ColorBar(color_mapper=color_mapper, label_standoff=12, location=(0,0))\n",
    "    fig.add_layout(color_bar, 'right')\n",
    "\n",
    "    \n",
    "    #Display\n",
    "    export_png(fig, filename='output_interpolado\\\\semana_{}.png'.format(id_semana))\n",
    "    print('Semana', id_semana, 'lista!')"
   ]
  },
  {
   "cell_type": "code",
   "execution_count": null,
   "metadata": {},
   "outputs": [],
   "source": [
    "import cv2\n",
    "import glob\n",
    " \n",
    "img_array = []\n",
    "for filename in glob.glob('output_interpolado/*.png'):\n",
    "    img = cv2.imread(filename)\n",
    "    height, width, layers = img.shape\n",
    "    size = (width,height)\n",
    "    img_array.append(img)\n",
    " \n",
    " \n",
    "out = cv2.VideoWriter('video_interpolado.avi',cv2.VideoWriter_fourcc(*'DIVX'), 30, size)\n",
    " \n",
    "for i in range(len(img_array)):\n",
    "    out.write(img_array[i])\n",
    "out.release()"
   ]
  },
  {
   "cell_type": "code",
   "execution_count": null,
   "metadata": {},
   "outputs": [],
   "source": []
  }
 ],
 "metadata": {
  "hide_input": false,
  "kernelspec": {
   "display_name": "Python 3",
   "language": "python",
   "name": "python3"
  },
  "language_info": {
   "codemirror_mode": {
    "name": "ipython",
    "version": 3
   },
   "file_extension": ".py",
   "mimetype": "text/x-python",
   "name": "python",
   "nbconvert_exporter": "python",
   "pygments_lexer": "ipython3",
   "version": "3.7.4"
  }
 },
 "nbformat": 4,
 "nbformat_minor": 2
}
